{
 "cells": [
  {
   "cell_type": "markdown",
   "metadata": {
    "collapsed": true
   },
   "source": [
    "# Capstone Project"
   ]
  },
  {
   "cell_type": "markdown",
   "metadata": {},
   "source": [
    "## The Battle of Neighborhoods (Week 1)"
   ]
  },
  {
   "cell_type": "markdown",
   "metadata": {},
   "source": [
    "### Introduction/Business Problem"
   ]
  },
  {
   "cell_type": "markdown",
   "metadata": {},
   "source": [
    "In this project we will try to find an optimal choice between a restaurant, a coffee shop and a bar. Specifically, this report will be targeted to stakeholders in investing in one of the three choices above in New York, or Berlin.\n",
    "\n",
    "We will try to detect in which city what type of store is more scarce and more popular. Also we are interested if there are areas where our options are not congested, so to be able to fill the existing gap.\n",
    "\n",
    "Using data science, we will generate possible neighborhoods, for each city based on this criteria. Our clear analysis can guide the stakeholders make the optimal investing choice, for the type, the city and the targeted neighborhood."
   ]
  },
  {
   "cell_type": "markdown",
   "metadata": {},
   "source": [
    "### Data"
   ]
  },
  {
   "cell_type": "markdown",
   "metadata": {},
   "source": [
    "Based on the definition of our problem, factors that will influence our decission are:\n",
    "* number of existing restaurants in the neighborhood\n",
    "* number of existing coffee shops in the neighborhood\n",
    "* number of existing bars in the neighborhood\n",
    "* population of the city\n",
    "* distance of the neighborhood from the city center\n",
    "\n",
    "Following data sources will be needed to extract/generate the required information:\n",
    "* centers of candidate areas will be generated algorithmically and approximate addresses of centers of those areas will be obtained using Google Maps API reverse geocoding.\n",
    "* number of restaurants and their type and location in every neighborhood will be obtained using Foursquare API\n",
    "* coordinate of Berlin center will be obtained using Google Maps API geocoding of well known Berlin and New York location."
   ]
  },
  {
   "cell_type": "markdown",
   "metadata": {},
   "source": [
    "## The Battle of Neighborhoods (Week 2)"
   ]
  },
  {
   "cell_type": "code",
   "execution_count": null,
   "metadata": {},
   "outputs": [],
   "source": []
  }
 ],
 "metadata": {
  "kernelspec": {
   "display_name": "Python 3.6",
   "language": "python",
   "name": "python3"
  },
  "language_info": {
   "codemirror_mode": {
    "name": "ipython",
    "version": 3
   },
   "file_extension": ".py",
   "mimetype": "text/x-python",
   "name": "python",
   "nbconvert_exporter": "python",
   "pygments_lexer": "ipython3",
   "version": "3.6.9"
  }
 },
 "nbformat": 4,
 "nbformat_minor": 1
}
